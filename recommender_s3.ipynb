{
 "cells": [
  {
   "cell_type": "markdown",
   "id": "figured-software",
   "metadata": {},
   "source": [
    "## 机器学习：模型导入与数据导入"
   ]
  },
  {
   "cell_type": "code",
   "execution_count": 1,
   "id": "serious-disclaimer",
   "metadata": {},
   "outputs": [
    {
     "name": "stdout",
     "output_type": "stream",
     "text": [
      "Starting Spark application\n"
     ]
    },
    {
     "data": {
      "text/html": [
       "<table><tr><th>ID</th><th>YARN Application ID</th><th>Kind</th><th>State</th><th>Spark UI</th><th>Driver log</th><th>User</th><th>Current session?</th></tr><tr><td class=\"sessionId\">8</td><td>None</td><td>pyspark</td><td>idle</td><td><a target=\"_blank\" href=\"/spark/erin/40706/jobs\">Link</a></td><td></td><td>erin</td><td>✔</td></tr></table>"
      ],
      "text/plain": [
       "<IPython.core.display.HTML object>"
      ]
     },
     "metadata": {},
     "output_type": "display_data"
    },
    {
     "data": {
      "application/vnd.jupyter.widget-view+json": {
       "model_id": "",
       "version_major": 2,
       "version_minor": 0
      },
      "text/plain": [
       "FloatProgress(value=0.0, bar_style='info', description='Progress:', layout=Layout(height='25px', width='50%'),…"
      ]
     },
     "metadata": {},
     "output_type": "display_data"
    },
    {
     "name": "stdout",
     "output_type": "stream",
     "text": [
      "SparkSession available as 'spark'.\n"
     ]
    },
    {
     "data": {
      "application/vnd.jupyter.widget-view+json": {
       "model_id": "",
       "version_major": 2,
       "version_minor": 0
      },
      "text/plain": [
       "FloatProgress(value=0.0, bar_style='info', description='Progress:', layout=Layout(height='25px', width='50%'),…"
      ]
     },
     "metadata": {},
     "output_type": "display_data"
    }
   ],
   "source": [
    "from pyspark.ml.recommendation import ALSModel\n",
    "model_path = \"hdfs:///user/erin/data/mllib/alsmodel\"\n",
    "als_model =ALSModel.load(model_path)\n",
    "df=spark.sql(\"select * from user_erin.rating\")\n",
    "name=spark.read.csv('hdfs://default/user/erin/demo/movies_metadata.csv', header=True)"
   ]
  },
  {
   "cell_type": "code",
   "execution_count": 2,
   "id": "recovered-albany",
   "metadata": {},
   "outputs": [
    {
     "data": {
      "application/vnd.jupyter.widget-view+json": {
       "model_id": "",
       "version_major": 2,
       "version_minor": 0
      },
      "text/plain": [
       "FloatProgress(value=0.0, bar_style='info', description='Progress:', layout=Layout(height='25px', width='50%'),…"
      ]
     },
     "metadata": {},
     "output_type": "display_data"
    },
    {
     "name": "stdout",
     "output_type": "stream",
     "text": [
      "root\n",
      " |-- user: integer (nullable = true)\n",
      " |-- movie: integer (nullable = true)\n",
      " |-- rating: integer (nullable = true)\n",
      " |-- timestamp: string (nullable = true)\n",
      " |-- title: string (nullable = true)"
     ]
    }
   ],
   "source": [
    "df.printSchema()"
   ]
  },
  {
   "cell_type": "code",
   "execution_count": 3,
   "id": "invalid-payday",
   "metadata": {},
   "outputs": [
    {
     "data": {
      "application/vnd.jupyter.widget-view+json": {
       "model_id": "",
       "version_major": 2,
       "version_minor": 0
      },
      "text/plain": [
       "FloatProgress(value=0.0, bar_style='info', description='Progress:', layout=Layout(height='25px', width='50%'),…"
      ]
     },
     "metadata": {},
     "output_type": "display_data"
    },
    {
     "name": "stdout",
     "output_type": "stream",
     "text": [
      "root\n",
      " |-- adult: string (nullable = true)\n",
      " |-- belongs_to_collection: string (nullable = true)\n",
      " |-- budget: string (nullable = true)\n",
      " |-- genres: string (nullable = true)\n",
      " |-- homepage: string (nullable = true)\n",
      " |-- id: string (nullable = true)\n",
      " |-- imdb_id: string (nullable = true)\n",
      " |-- original_language: string (nullable = true)\n",
      " |-- original_title: string (nullable = true)\n",
      " |-- overview: string (nullable = true)\n",
      " |-- popularity: string (nullable = true)\n",
      " |-- poster_path: string (nullable = true)\n",
      " |-- production_companies: string (nullable = true)\n",
      " |-- production_countries: string (nullable = true)\n",
      " |-- release_date: string (nullable = true)\n",
      " |-- revenue: string (nullable = true)\n",
      " |-- runtime: string (nullable = true)\n",
      " |-- spoken_languages: string (nullable = true)\n",
      " |-- status: string (nullable = true)\n",
      " |-- tagline: string (nullable = true)\n",
      " |-- title: string (nullable = true)\n",
      " |-- video: string (nullable = true)\n",
      " |-- vote_average: string (nullable = true)\n",
      " |-- vote_count: string (nullable = true)"
     ]
    }
   ],
   "source": [
    "name.printSchema()"
   ]
  },
  {
   "cell_type": "markdown",
   "id": "authorized-briefs",
   "metadata": {},
   "source": [
    "从数据集中随机选择一个用户id，以便于后续进行检测。在limit（）的括号中填入选择的数量。"
   ]
  },
  {
   "cell_type": "code",
   "execution_count": 4,
   "id": "attractive-article",
   "metadata": {},
   "outputs": [
    {
     "data": {
      "application/vnd.jupyter.widget-view+json": {
       "model_id": "",
       "version_major": 2,
       "version_minor": 0
      },
      "text/plain": [
       "FloatProgress(value=0.0, bar_style='info', description='Progress:', layout=Layout(height='25px', width='50%'),…"
      ]
     },
     "metadata": {},
     "output_type": "display_data"
    },
    {
     "name": "stdout",
     "output_type": "stream",
     "text": [
      "+------+\n",
      "|  user|\n",
      "+------+\n",
      "|203222|\n",
      "+------+"
     ]
    }
   ],
   "source": [
    "from pyspark.sql.functions import rand\n",
    "df.orderBy(rand()).limit(1).select(\"user\").show()"
   ]
  },
  {
   "cell_type": "markdown",
   "id": "aerial-villa",
   "metadata": {},
   "source": [
    "## 机器学习：运用模型对用户进行推荐\n",
    "- 对于als模型，可以用recommendForAllUsers（）方程，在括号中填入每个用户需要推荐的电影数量，例如以下单元格中使用10，那么对于每个用户，都会有10部电影推荐。\n",
    "- recommendforuser（）这个方程的功能是将用户id对应的推荐的电影id转化为电影名称，使推荐更直观。"
   ]
  },
  {
   "cell_type": "code",
   "execution_count": 5,
   "id": "governmental-demand",
   "metadata": {},
   "outputs": [
    {
     "data": {
      "application/vnd.jupyter.widget-view+json": {
       "model_id": "",
       "version_major": 2,
       "version_minor": 0
      },
      "text/plain": [
       "FloatProgress(value=0.0, bar_style='info', description='Progress:', layout=Layout(height='25px', width='50%'),…"
      ]
     },
     "metadata": {},
     "output_type": "display_data"
    },
    {
     "name": "stdout",
     "output_type": "stream",
     "text": [
      "+--------------------+\n",
      "|     recommendations|\n",
      "+--------------------+\n",
      "|[[1789, 25.058905...|\n",
      "+--------------------+\n",
      "only showing top 1 row"
     ]
    }
   ],
   "source": [
    "recommend=als_model.recommendForAllUsers(10)\n",
    "recommend.select(\"recommendations\").show(1)"
   ]
  },
  {
   "cell_type": "code",
   "execution_count": 6,
   "id": "unlike-contents",
   "metadata": {},
   "outputs": [
    {
     "data": {
      "application/vnd.jupyter.widget-view+json": {
       "model_id": "",
       "version_major": 2,
       "version_minor": 0
      },
      "text/plain": [
       "FloatProgress(value=0.0, bar_style='info', description='Progress:', layout=Layout(height='25px', width='50%'),…"
      ]
     },
     "metadata": {},
     "output_type": "display_data"
    }
   ],
   "source": [
    "def recommendforuser(userid):\n",
    "    res=recommend.filter(recommend.user==userid)\n",
    "    res=res.select(\"recommendations\")\n",
    "    res=res.take(1)[0][\"recommendations\"]\n",
    "    tname=[]\n",
    "    for i in res:\n",
    "        temp=name.filter(name.id==i.movie)\n",
    "        n=temp.select(\"title\").take(1)[0][\"title\"]\n",
    "        tname.append(n)\n",
    "    return tname"
   ]
  },
  {
   "cell_type": "markdown",
   "id": "romance-realtor",
   "metadata": {},
   "source": [
    "推荐实例，在括号中填入用户id，则会得到一个包含十部电影名称的队列。\n",
    "cell9中的用户id，是cell4输出的随机的一个用户id。"
   ]
  },
  {
   "cell_type": "code",
   "execution_count": 7,
   "id": "informal-malaysia",
   "metadata": {},
   "outputs": [
    {
     "data": {
      "application/vnd.jupyter.widget-view+json": {
       "model_id": "",
       "version_major": 2,
       "version_minor": 0
      },
      "text/plain": [
       "FloatProgress(value=0.0, bar_style='info', description='Progress:', layout=Layout(height='25px', width='50%'),…"
      ]
     },
     "metadata": {},
     "output_type": "display_data"
    },
    {
     "name": "stdout",
     "output_type": "stream",
     "text": [
      "['Mai Stati Uniti', 'A Viking Saga: The Darkest Day', 'The Gazebo', 'Return Home', 'Blondie Johnson', '96.0', 'Let Me In', 'A Plasticine Crow', 'Cannibal Women in the Avocado Jungle of Death', 'Next Door']"
     ]
    }
   ],
   "source": [
    "recommendforuser(21260)"
   ]
  },
  {
   "cell_type": "markdown",
   "id": "diagnostic-roberts",
   "metadata": {},
   "source": [
    "将推荐电影数据集存入hive。"
   ]
  },
  {
   "cell_type": "code",
   "execution_count": 8,
   "id": "interim-turning",
   "metadata": {},
   "outputs": [
    {
     "data": {
      "application/vnd.jupyter.widget-view+json": {
       "model_id": "",
       "version_major": 2,
       "version_minor": 0
      },
      "text/plain": [
       "FloatProgress(value=0.0, bar_style='info', description='Progress:', layout=Layout(height='25px', width='50%'),…"
      ]
     },
     "metadata": {},
     "output_type": "display_data"
    }
   ],
   "source": [
    "recommend.write.format(\"hive\").mode(\"overwrite\").saveAsTable(\"user_erin.recommend\")"
   ]
  },
  {
   "cell_type": "code",
   "execution_count": 21,
   "id": "attended-discount",
   "metadata": {},
   "outputs": [
    {
     "data": {
      "application/vnd.jupyter.widget-view+json": {
       "model_id": "",
       "version_major": 2,
       "version_minor": 0
      },
      "text/plain": [
       "FloatProgress(value=0.0, bar_style='info', description='Progress:', layout=Layout(height='25px', width='50%'),…"
      ]
     },
     "metadata": {},
     "output_type": "display_data"
    }
   ],
   "source": [
    "spark.stop()"
   ]
  }
 ],
 "metadata": {
  "kernelspec": {
   "display_name": "PySpark",
   "language": "python",
   "name": "pysparkkernel"
  },
  "language_info": {
   "codemirror_mode": {
    "name": "python",
    "version": 3
   },
   "file_extension": ".py",
   "mimetype": "text/x-python",
   "name": "pyspark",
   "pygments_lexer": "python3"
  }
 },
 "nbformat": 4,
 "nbformat_minor": 5
}
